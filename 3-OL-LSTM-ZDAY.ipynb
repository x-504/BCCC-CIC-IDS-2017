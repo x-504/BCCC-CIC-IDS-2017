{
 "cells": [
  {
   "cell_type": "code",
   "execution_count": 1,
   "metadata": {},
   "outputs": [],
   "source": [
    "import os\n",
    "import numpy as np\n",
    "import pandas as pd\n",
    "import random\n",
    "\n",
    "\n",
    "import tensorflow as tf\n",
    "from tensorflow.keras.models import Sequential\n",
    "from tensorflow.keras.layers import LSTM, Dense, Dropout\n",
    "from tensorflow.keras.metrics import AUC\n",
    "from sklearn.preprocessing import LabelEncoder, StandardScaler, MinMaxScaler\n",
    "from sklearn.model_selection import train_test_split\n",
    "from sklearn.metrics import classification_report, accuracy_score\n",
    "from imblearn.under_sampling import RandomUnderSampler\n",
    "\n",
    "from sklearn.preprocessing import MultiLabelBinarizer\n",
    "\n",
    "from sklearn.metrics import multilabel_confusion_matrix\n",
    "import matplotlib.pyplot as plt\n",
    "import seaborn as sns\n",
    "\n",
    "from sklearn.metrics import confusion_matrix\n",
    "\n",
    "\n",
    "from river import compose, preprocessing, metrics, datasets\n",
    "from river import evaluate\n",
    "from deep_river.classification import Classifier\n",
    "\n",
    "import deep_river\n",
    "from river import compat\n",
    "from river import stream\n",
    "import torch.optim as optim\n",
    "\n",
    "from collections import Counter\n",
    "\n",
    "\n",
    "\n",
    "from deep_river.anomaly import RollingAutoencoder\n",
    "from deep_river import classification\n",
    "\n",
    "from torch import nn, manual_seed\n",
    "import torch.nn.functional as F\n",
    "import torch\n",
    "from tqdm import tqdm\n"
   ]
  },
  {
   "cell_type": "code",
   "execution_count": null,
   "metadata": {},
   "outputs": [],
   "source": [
    "# Define defaults\n",
    "\n",
    "# Set seed for NumPy\n",
    "np.random.seed(42)\n",
    "\n",
    "FILENAME = \"../../datasets/BCCC-CIC-IDS-2017/subsets/training_v1.csv\"\n",
    "FILENAME_TEST = \"../../datasets/BCCC-CIC-IDS-2017/subsets/test_v1.csv\""
   ]
  },
  {
   "cell_type": "code",
   "execution_count": 3,
   "metadata": {},
   "outputs": [],
   "source": [
    "# Load csv file\n",
    "df = pd.read_csv(FILENAME, low_memory=False)\n",
    "df_test = pd.read_csv(FILENAME_TEST, low_memory=False)"
   ]
  },
  {
   "cell_type": "code",
   "execution_count": 4,
   "metadata": {},
   "outputs": [
    {
     "data": {
      "text/plain": [
       "(562799, 109)"
      ]
     },
     "execution_count": 4,
     "metadata": {},
     "output_type": "execute_result"
    }
   ],
   "source": [
    "df.shape"
   ]
  },
  {
   "cell_type": "code",
   "execution_count": 5,
   "metadata": {},
   "outputs": [
    {
     "data": {
      "text/plain": [
       "(562800, 109)"
      ]
     },
     "execution_count": 5,
     "metadata": {},
     "output_type": "execute_result"
    }
   ],
   "source": [
    "df_test.shape"
   ]
  },
  {
   "cell_type": "code",
   "execution_count": 6,
   "metadata": {},
   "outputs": [],
   "source": [
    "X_train = df.drop(\"label\", axis=1)\n",
    "y_train = df[\"label\"]\n",
    "\n",
    "\n",
    "X_test = df_test.drop(\"label\", axis=1)\n",
    "y_test = df_test[\"label\"]"
   ]
  },
  {
   "cell_type": "code",
   "execution_count": 7,
   "metadata": {},
   "outputs": [
    {
     "data": {
      "text/plain": [
       "label\n",
       "0    364830\n",
       "3    141652\n",
       "1     47301\n",
       "2      3878\n",
       "4      2798\n",
       "5      2340\n",
       "Name: count, dtype: int64"
      ]
     },
     "execution_count": 7,
     "metadata": {},
     "output_type": "execute_result"
    }
   ],
   "source": [
    "df['label'].value_counts()"
   ]
  },
  {
   "cell_type": "code",
   "execution_count": 8,
   "metadata": {},
   "outputs": [
    {
     "data": {
      "text/plain": [
       "array([0, 3, 1, 5, 4, 2])"
      ]
     },
     "execution_count": 8,
     "metadata": {},
     "output_type": "execute_result"
    }
   ],
   "source": [
    "attack_types = df['label'].unique()\n",
    "attack_types"
   ]
  },
  {
   "cell_type": "code",
   "execution_count": 9,
   "metadata": {},
   "outputs": [],
   "source": [
    "# Select attacks to exclude from training (simulate unseen attacks)\n",
    "seen_attacks = attack_types[:int(len(attack_types) * 0.8)]\n",
    "unseen_attacks = attack_types[int(len(attack_types) * 0.8):]"
   ]
  },
  {
   "cell_type": "code",
   "execution_count": 10,
   "metadata": {},
   "outputs": [
    {
     "data": {
      "text/plain": [
       "array([0, 3, 1, 5])"
      ]
     },
     "execution_count": 10,
     "metadata": {},
     "output_type": "execute_result"
    }
   ],
   "source": [
    "seen_attacks"
   ]
  },
  {
   "cell_type": "code",
   "execution_count": 11,
   "metadata": {},
   "outputs": [
    {
     "data": {
      "text/plain": [
       "array([4, 2])"
      ]
     },
     "execution_count": 11,
     "metadata": {},
     "output_type": "execute_result"
    }
   ],
   "source": [
    "unseen_attacks"
   ]
  },
  {
   "cell_type": "code",
   "execution_count": 12,
   "metadata": {},
   "outputs": [],
   "source": [
    "X_train_seen = X_train[y_train.isin(seen_attacks)]\n",
    "y_train_seen = y_train[y_train.isin(seen_attacks)]"
   ]
  },
  {
   "cell_type": "code",
   "execution_count": 13,
   "metadata": {},
   "outputs": [],
   "source": [
    "# Further split test set to include unseen attacks\n",
    "X_test_seen = X_test[y_test.isin(seen_attacks)]\n",
    "y_test_seen = y_test[y_test.isin(seen_attacks)]\n",
    "X_test_unseen = X_test[y_test.isin(unseen_attacks)]\n",
    "y_test_unseen = y_test[y_test.isin(unseen_attacks)]"
   ]
  },
  {
   "cell_type": "code",
   "execution_count": 14,
   "metadata": {},
   "outputs": [],
   "source": [
    "# convert to a bianry classification\n",
    "y_train_seen = (y_train_seen != 0).astype(int)\n",
    "y_test_unseen = (y_test_unseen != 0).astype(int)\n",
    "y_test_seen = (y_test_seen != 0).astype(int)"
   ]
  },
  {
   "cell_type": "code",
   "execution_count": 15,
   "metadata": {},
   "outputs": [
    {
     "data": {
      "text/plain": [
       "label\n",
       "0    364830\n",
       "1    191293\n",
       "Name: count, dtype: int64"
      ]
     },
     "execution_count": 15,
     "metadata": {},
     "output_type": "execute_result"
    }
   ],
   "source": [
    "y_train_seen.value_counts()"
   ]
  },
  {
   "cell_type": "code",
   "execution_count": 16,
   "metadata": {},
   "outputs": [
    {
     "data": {
      "text/plain": [
       "label\n",
       "1    6602\n",
       "Name: count, dtype: int64"
      ]
     },
     "execution_count": 16,
     "metadata": {},
     "output_type": "execute_result"
    }
   ],
   "source": [
    "y_test_unseen.value_counts()\n"
   ]
  },
  {
   "cell_type": "code",
   "execution_count": 17,
   "metadata": {},
   "outputs": [
    {
     "data": {
      "text/plain": [
       "label\n",
       "0    365427\n",
       "1    190771\n",
       "Name: count, dtype: int64"
      ]
     },
     "execution_count": 17,
     "metadata": {},
     "output_type": "execute_result"
    }
   ],
   "source": [
    "y_test_seen.value_counts()"
   ]
  },
  {
   "cell_type": "code",
   "execution_count": 18,
   "metadata": {},
   "outputs": [
    {
     "data": {
      "text/plain": [
       "(6602, 108)"
      ]
     },
     "execution_count": 18,
     "metadata": {},
     "output_type": "execute_result"
    }
   ],
   "source": [
    "X_test_unseen.shape"
   ]
  },
  {
   "cell_type": "code",
   "execution_count": 19,
   "metadata": {},
   "outputs": [
    {
     "data": {
      "text/plain": [
       "(6602,)"
      ]
     },
     "execution_count": 19,
     "metadata": {},
     "output_type": "execute_result"
    }
   ],
   "source": [
    "y_test_unseen.shape"
   ]
  },
  {
   "cell_type": "code",
   "execution_count": 20,
   "metadata": {},
   "outputs": [],
   "source": [
    "class MyModule(nn.Module):\n",
    "    def __init__(self, n_features, input_size=108, hidden_size1=64, hidden_size2=32,\n",
    "                 dropout_rate=0.2, num_layers=1):\n",
    "        super(MyModule, self).__init__()\n",
    "        self.lstm1 = nn.LSTM(input_size, 256, num_layers=num_layers, batch_first=True)\n",
    "        self.dropout1 = nn.Dropout(dropout_rate)\n",
    "        self.lstm2 = nn.LSTM(256, 128, num_layers=num_layers, batch_first=True)\n",
    "        self.dropout2 = nn.Dropout(dropout_rate)\n",
    "        self.lstm3 = nn.LSTM(128, 64, num_layers=num_layers, batch_first=True)\n",
    "        self.dropout3 = nn.Dropout(dropout_rate)\n",
    "        \n",
    "        self.fc1 = nn.Linear(64, 32)\n",
    "        self.dropout4 = nn.Dropout(dropout_rate)\n",
    "        \n",
    "        self.fc2 = nn.Linear(32, 1)  # Single output for binary classification\n",
    "\n",
    "    def forward(self, X):\n",
    "        out, _ = self.lstm1(X)\n",
    "        out = self.dropout1(out)\n",
    "\n",
    "        out, _ = self.lstm2(out)\n",
    "        out = self.dropout2(out)\n",
    "        \n",
    "        out, _ = self.lstm3(out)\n",
    "        out = self.dropout3(out)\n",
    "        \n",
    "        out = self.fc1(out)\n",
    "        out = torch.relu(out)\n",
    "        out = self.dropout4(out)\n",
    "\n",
    "        if out.dim() == 3:\n",
    "            out = out[:, -1, :]\n",
    "\n",
    "        return self.fc2(out)  \n"
   ]
  },
  {
   "cell_type": "code",
   "execution_count": 21,
   "metadata": {},
   "outputs": [],
   "source": [
    "metric = metrics.ROCAUC(n_thresholds=50)\n",
    "\n",
    "model_pipeline = compose.Pipeline(\n",
    "    classification.Classifier(module=MyModule, loss_fn='binary_cross_entropy_with_logits', optimizer_fn='adam', output_is_logit=True, lr=0.001, is_feature_incremental=False,is_class_incremental=False, seed=42)\n",
    "    )"
   ]
  },
  {
   "cell_type": "code",
   "execution_count": 22,
   "metadata": {},
   "outputs": [],
   "source": [
    "# Merge the dataset\n",
    "from sklearn.utils import shuffle\n",
    "\n",
    "df_train = pd.concat([X_train_seen, y_train_seen], axis=1)\n",
    "df_test = pd.concat([X_test_unseen, y_test_unseen], axis=1)\n",
    "\n",
    "\n",
    "df_train['source'] = 'train'\n",
    "df_test['source'] = 'test'\n",
    "\n",
    "df_merged = pd.concat([df_train, df_test])  # Merging along columns\n",
    "\n",
    "# df_shuffled = shuffle(df_merged, random_state=42).reset_index(drop=True)\n",
    "\n",
    "test_indices_in_combined = df_merged[df_merged['source'] == 'test'].index.tolist()\n",
    "\n",
    "df_final = df_merged.drop(columns='source')\n",
    "\n"
   ]
  },
  {
   "cell_type": "code",
   "execution_count": 23,
   "metadata": {},
   "outputs": [
    {
     "data": {
      "text/plain": [
       "[35, 215, 401, 428, 672, 868, 915, 964, 1125, 1150]"
      ]
     },
     "execution_count": 23,
     "metadata": {},
     "output_type": "execute_result"
    }
   ],
   "source": [
    "test_indices_in_combined[0:10]"
   ]
  },
  {
   "cell_type": "code",
   "execution_count": 24,
   "metadata": {},
   "outputs": [
    {
     "data": {
      "text/plain": [
       "6602"
      ]
     },
     "execution_count": 24,
     "metadata": {},
     "output_type": "execute_result"
    }
   ],
   "source": [
    "len(test_indices_in_combined)"
   ]
  },
  {
   "cell_type": "code",
   "execution_count": 25,
   "metadata": {},
   "outputs": [
    {
     "data": {
      "text/plain": [
       "(562725, 109)"
      ]
     },
     "execution_count": 25,
     "metadata": {},
     "output_type": "execute_result"
    }
   ],
   "source": [
    "df_final.shape"
   ]
  },
  {
   "cell_type": "code",
   "execution_count": 26,
   "metadata": {},
   "outputs": [
    {
     "name": "stdout",
     "output_type": "stream",
     "text": [
      "['fwd_rst_flag_counts', 'rst_flag_counts', 'bwd_avg_segment_size', 'bwd_payload_bytes_variance', 'payload_bytes_std', 'bwd_payload_bytes_std', 'fwd_payload_bytes_std', 'payload_bytes_variance', 'payload_bytes_mean', 'fwd_payload_bytes_mean', 'bwd_payload_bytes_mean', 'avg_segment_size', 'payload_bytes_max', 'fwd_payload_bytes_max', 'bwd_payload_bytes_max', 'packet_IAT_min', 'packets_IAT_mean', 'packet_IAT_max', 'packet_IAT_total', 'fwd_packets_IAT_min', 'fwd_packets_IAT_mean', 'fwd_packets_IAT_total', 'fwd_packets_IAT_max', 'bwd_std_header_bytes', 'active_std', 'idle_min', 'idle_mean', 'idle_max', 'bwd_rst_flag_counts', 'fwd_std_header_bytes', 'std_header_bytes', 'fwd_syn_flag_counts', 'bwd_init_win_bytes', 'bwd_fin_flag_counts', 'fwd_packets_IAT_std', 'fwd_init_win_bytes', 'bwd_packets_IAT_min', 'bwd_packets_IAT_mean', 'bwd_packets_IAT_max', 'bwd_packets_IAT_total', 'bwd_max_header_bytes', 'packet_IAT_std', 'syn_flag_counts', 'bwd_bytes_rate', 'min_header_bytes', 'fwd_bulk_duration', 'bwd_mean_header_bytes', 'bwd_min_header_bytes', 'avg_bwd_bulk_rate', 'mean_header_bytes', 'bytes_rate', 'fwd_fin_flag_counts', 'bwd_packets_IAT_std', 'fwd_min_header_bytes', 'bwd_syn_flag_counts', 'duration', 'fwd_mean_header_bytes', 'avg_fwd_packets_per_bulk', 'fin_flag_counts', 'fwd_max_header_bytes', 'fwd_avg_segment_size', 'max_header_bytes', 'bwd_payload_bytes_min', 'fwd_payload_bytes_min', 'payload_bytes_min', 'idle_std', 'down_up_rate', 'fwd_ece_flag_counts', 'ece_flag_counts', 'bwd_ece_flag_counts', 'fwd_payload_bytes_variance', 'fwd_bulk_state_count', 'fwd_psh_flag_counts', 'fwd_packets_rate', 'fwd_bulk_per_packet', 'fwd_bytes_rate', 'avg_fwd_bytes_per_bulk', 'avg_bwd_packets_bulk_rate', 'packets_rate', 'subflow_bwd_bytes', 'subflow_fwd_bytes', 'fwd_total_payload_bytes', 'avg_bwd_bytes_per_bulk', 'psh_flag_counts', 'bwd_psh_flag_counts', 'bwd_packets_rate', 'bwd_bulk_duration', 'cwr_flag_counts', 'fwd_cwr_flag_counts', 'fwd_bulk_total_size', 'bwd_bulk_state_count', 'avg_fwd_bulk_rate', 'bwd_total_header_bytes', 'bwd_ack_flag_counts', 'bwd_packets_count', 'ack_flag_counts', 'packets_count', 'total_header_bytes', 'fwd_ack_flag_counts', 'fwd_packets_count', 'fwd_total_header_bytes', 'bwd_bulk_per_packet', 'total_payload_bytes', 'bwd_total_payload_bytes', 'bwd_bulk_total_size', 'bwd_cwr_flag_counts', 'subflow_fwd_packets', 'subflow_bwd_packets', 'label']\n"
     ]
    }
   ],
   "source": [
    "pd.set_option('display.max_columns', None)\n",
    "print(df_final.columns.tolist())\n"
   ]
  },
  {
   "cell_type": "code",
   "execution_count": 27,
   "metadata": {},
   "outputs": [],
   "source": [
    "X = df_final.drop(\"label\", axis=1)\n",
    "y = df_final[\"label\"]"
   ]
  },
  {
   "cell_type": "code",
   "execution_count": 28,
   "metadata": {},
   "outputs": [
    {
     "data": {
      "text/plain": [
       "label\n",
       "0    364830\n",
       "1    197895\n",
       "Name: count, dtype: int64"
      ]
     },
     "execution_count": 28,
     "metadata": {},
     "output_type": "execute_result"
    }
   ],
   "source": [
    "y.value_counts()"
   ]
  },
  {
   "cell_type": "code",
   "execution_count": 29,
   "metadata": {},
   "outputs": [
    {
     "data": {
      "text/plain": [
       "(562725,)"
      ]
     },
     "execution_count": 29,
     "metadata": {},
     "output_type": "execute_result"
    }
   ],
   "source": [
    "y.shape"
   ]
  },
  {
   "cell_type": "code",
   "execution_count": 30,
   "metadata": {},
   "outputs": [
    {
     "name": "stderr",
     "output_type": "stream",
     "text": [
      "0it [00:00, ?it/s]/Users/alberto.llamas/anaconda3/envs/rag11/lib/python3.12/site-packages/tqdm/auto.py:21: TqdmWarning: IProgress not found. Please update jupyter and ipywidgets. See https://ipywidgets.readthedocs.io/en/stable/user_install.html\n",
      "  from .autonotebook import tqdm as notebook_tqdm\n",
      "562725it [26:23, 355.43it/s]"
     ]
    },
    {
     "name": "stdout",
     "output_type": "stream",
     "text": [
      "ROCAUC: 0.6974\n"
     ]
    },
    {
     "name": "stderr",
     "output_type": "stream",
     "text": [
      "\n"
     ]
    }
   ],
   "source": [
    "# Inference + learning\n",
    "\n",
    "\n",
    "predictions = []\n",
    "ground_truth = []\n",
    "\n",
    "rocauc_x_vals = []\n",
    "rocauc_y_vals = []\n",
    "\n",
    "index = 0\n",
    "\n",
    "for xi, yi in tqdm(stream.iter_pandas(X, y)):\n",
    "    y_pred = model_pipeline.predict_one(xi)\n",
    "    \n",
    "    if index not in (test_indices_in_combined):        \n",
    "        model_pipeline.learn_one(xi, yi) # make the model learn (seen)\n",
    "    \n",
    "    if index in (test_indices_in_combined):\n",
    "    \n",
    "        if isinstance(y_pred, int):\n",
    "            metric.update(yi, y_pred)\n",
    "            predictions.append(y_pred)\n",
    "            ground_truth.append(yi)\n",
    "            rocauc_x_vals.append(index)\n",
    "            rocauc_y_vals.append(metric.get())  \n",
    "    \n",
    "    \n",
    "    index += 1\n",
    "\n",
    "print(f\"ROCAUC: {metric.get():.4f}\")"
   ]
  },
  {
   "cell_type": "code",
   "execution_count": 31,
   "metadata": {},
   "outputs": [
    {
     "name": "stdout",
     "output_type": "stream",
     "text": [
      "              precision    recall  f1-score   support\n",
      "\n",
      "           0     0.7612    0.8996    0.8246      4234\n",
      "           1     0.7339    0.4951    0.5913      2367\n",
      "\n",
      "    accuracy                         0.7546      6601\n",
      "   macro avg     0.7475    0.6974    0.7080      6601\n",
      "weighted avg     0.7514    0.7546    0.7410      6601\n",
      "\n"
     ]
    }
   ],
   "source": [
    "print(classification_report(ground_truth, predictions, zero_division=0, digits=4))"
   ]
  },
  {
   "cell_type": "code",
   "execution_count": 32,
   "metadata": {},
   "outputs": [
    {
     "name": "stdout",
     "output_type": "stream",
     "text": [
      "<bound method Pipeline._get_params of Pipeline (\n",
      "  Classifier (\n",
      "    module=MyModule(\n",
      "    (lstm1): LSTM(108, 256, batch_first=True)\n",
      "    (dropout1): Dropout(p=0.2, inplace=False)\n",
      "    (lstm2): LSTM(256, 128, batch_first=True)\n",
      "    (dropout2): Dropout(p=0.2, inplace=False)\n",
      "    (lstm3): LSTM(128, 64, batch_first=True)\n",
      "    (dropout3): Dropout(p=0.2, inplace=False)\n",
      "    (fc1): Linear(in_features=64, out_features=32, bias=True)\n",
      "    (dropout4): Dropout(p=0.2, inplace=False)\n",
      "    (fc2): Linear(in_features=32, out_features=1, bias=True)\n",
      "  )\n",
      "    loss_fn=\"binary_cross_entropy_with_logits\"\n",
      "    optimizer_fn=\"adam\"\n",
      "    lr=0.001\n",
      "    output_is_logit=True\n",
      "    is_class_incremental=False\n",
      "    is_feature_incremental=False\n",
      "    device=\"cpu\"\n",
      "    seed=42\n",
      "  )\n",
      ")>\n"
     ]
    }
   ],
   "source": [
    "print(model_pipeline._get_params)"
   ]
  },
  {
   "cell_type": "code",
   "execution_count": 33,
   "metadata": {},
   "outputs": [
    {
     "data": {
      "image/png": "[encoded data removed]",
      "text/plain": [
       "<Figure size 1000x500 with 1 Axes>"
      ]
     },
     "metadata": {},
     "output_type": "display_data"
    }
   ],
   "source": [
    "plt.figure(figsize=(10, 5))\n",
    "plt.plot(rocauc_x_vals, rocauc_y_vals, label='ROCAUC')\n",
    "plt.xlabel('Instances')\n",
    "plt.ylabel('ROC AUC')\n",
    "plt.title('LSTM Online ROC AUC Score Over Time')\n",
    "plt.grid(True)\n",
    "plt.legend()\n",
    "plt.show()\n"
   ]
  },
  {
   "cell_type": "code",
   "execution_count": 34,
   "metadata": {},
   "outputs": [
    {
     "data": {
      "image/png": "[encoded data removed]",
      "text/plain": [
       "<Figure size 600x500 with 2 Axes>"
      ]
     },
     "metadata": {},
     "output_type": "display_data"
    }
   ],
   "source": [
    "# Create annotations combining count and percentage\n",
    "from sklearn.metrics import confusion_matrix, ConfusionMatrixDisplay\n",
    "\n",
    "labels = [0, 1]\n",
    "cm = confusion_matrix(ground_truth, predictions, labels=labels)\n",
    "\n",
    "# Calculate percentages\n",
    "cm_percent = cm.astype('float') / cm.sum(axis=1, keepdims=True) * 100\n",
    "cm_percent = np.nan_to_num(cm_percent)  # Handle division by zero if any\n",
    "\n",
    "\n",
    "# Create annotations combining count and percentage\n",
    "annotations = np.empty_like(cm).astype(str)\n",
    "\n",
    "for i in range(cm.shape[0]):\n",
    "    for j in range(cm.shape[1]):\n",
    "        count = cm[i, j]\n",
    "        percent = cm_percent[i, j]\n",
    "        annotations[i, j] = f'{count}\\n({percent:.1f}%)'\n",
    "\n",
    "# Plot heatmap with both count and percentage\n",
    "fig, ax = plt.subplots(figsize=(6, 5))\n",
    "sns.heatmap(cm, annot=annotations, fmt='', cmap='Blues', xticklabels=labels, yticklabels=labels, ax=ax)\n",
    "\n",
    "ax.set_xlabel('Predicted Label')\n",
    "ax.set_ylabel('True Label')\n",
    "ax.set_title('Confusion Matrix with Counts and Percentages')\n",
    "\n",
    "plt.tight_layout()\n",
    "plt.show()"
   ]
  }
 ],
 "metadata": {
  "kernelspec": {
   "display_name": "rag11",
   "language": "python",
   "name": "python3"
  },
  "language_info": {
   "codemirror_mode": {
    "name": "ipython",
    "version": 3
   },
   "file_extension": ".py",
   "mimetype": "text/x-python",
   "name": "python",
   "nbconvert_exporter": "python",
   "pygments_lexer": "ipython3",
   "version": "3.12.8"
  }
 },
 "nbformat": 4,
 "nbformat_minor": 2
}
