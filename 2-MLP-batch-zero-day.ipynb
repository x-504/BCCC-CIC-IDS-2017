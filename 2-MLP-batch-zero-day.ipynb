{
 "cells": [
  {
   "cell_type": "code",
   "execution_count": 1,
   "metadata": {},
   "outputs": [],
   "source": [
    "import os\n",
    "import numpy as np\n",
    "import pandas as pd\n",
    "\n",
    "\n",
    "import tensorflow as tf\n",
    "from collections import Counter\n",
    "from tensorflow.keras.models import Sequential\n",
    "from tensorflow.keras.layers import LSTM, GRU, Dense, Dropout, Input, Flatten, Bidirectional, SpatialDropout1D, Lambda, Activation\n",
    "from tensorflow.keras.metrics import AUC\n",
    "from sklearn.preprocessing import LabelEncoder, MinMaxScaler, StandardScaler\n",
    "from sklearn.model_selection import train_test_split\n",
    "from sklearn.metrics import classification_report, accuracy_score\n",
    "from sklearn.preprocessing import MultiLabelBinarizer\n",
    "from sklearn.metrics import multilabel_confusion_matrix\n",
    "from imblearn.under_sampling import RandomUnderSampler\n",
    "from imblearn.over_sampling import RandomOverSampler\n",
    "from imblearn.combine import SMOTETomek, SMOTEENN\n",
    "from keras.optimizers import Adam\n",
    "\n",
    "from tensorflow.keras.regularizers import l2\n",
    "from tensorflow.keras.callbacks import EarlyStopping\n",
    "\n",
    "from sklearn.metrics import roc_curve, auc, RocCurveDisplay\n",
    "\n",
    "\n",
    "\n",
    "import matplotlib.pyplot as plt\n",
    "import seaborn as sns\n",
    "\n",
    "from sklearn.metrics import confusion_matrix\n"
   ]
  },
  {
   "cell_type": "code",
   "execution_count": null,
   "metadata": {},
   "outputs": [],
   "source": [
    "# Define defaults\n",
    "FILENAME = \"../../datasets/BCCC-CIC-IDS-2017/subsets/training_v1.csv\"\n",
    "FILENAME_TEST = \"../../datasets/BCCC-CIC-IDS-2017/subsets/test_v1.csv\""
   ]
  },
  {
   "cell_type": "code",
   "execution_count": 3,
   "metadata": {},
   "outputs": [],
   "source": [
    "# Load csv file\n",
    "df = pd.read_csv(FILENAME, low_memory=False)\n",
    "df_test = pd.read_csv(FILENAME_TEST, low_memory=False)\n",
    "\n",
    "# Split X and y\n",
    "X_train = df.drop(\"label\", axis=1)\n",
    "y_train = df[\"label\"]\n",
    "\n",
    "X_test = df_test.drop(\"label\", axis=1)\n",
    "y_test = df_test[\"label\"]\n",
    "\n"
   ]
  },
  {
   "cell_type": "code",
   "execution_count": 4,
   "metadata": {},
   "outputs": [],
   "source": [
    "# Normalize Training dataset\n",
    "scaler = MinMaxScaler(feature_range=(0, 1))\n",
    "top_features = X_train.columns.tolist()\n",
    "X_train[top_features] = scaler.fit_transform(X_train[top_features])"
   ]
  },
  {
   "cell_type": "code",
   "execution_count": 5,
   "metadata": {},
   "outputs": [
    {
     "data": {
      "text/plain": [
       "array([0, 3, 1, 5, 4, 2])"
      ]
     },
     "execution_count": 5,
     "metadata": {},
     "output_type": "execute_result"
    }
   ],
   "source": [
    "attack_types = df['label'].unique()\n",
    "attack_types"
   ]
  },
  {
   "cell_type": "code",
   "execution_count": 6,
   "metadata": {},
   "outputs": [],
   "source": [
    "# Select attacks to exclude from training (simulate unseen attacks)\n",
    "seen_attacks = attack_types[:int(len(attack_types) * 0.8)]\n",
    "unseen_attacks = attack_types[int(len(attack_types) * 0.8):]"
   ]
  },
  {
   "cell_type": "code",
   "execution_count": 7,
   "metadata": {},
   "outputs": [
    {
     "data": {
      "text/plain": [
       "array([0, 3, 1, 5])"
      ]
     },
     "execution_count": 7,
     "metadata": {},
     "output_type": "execute_result"
    }
   ],
   "source": [
    "seen_attacks"
   ]
  },
  {
   "cell_type": "code",
   "execution_count": 8,
   "metadata": {},
   "outputs": [
    {
     "data": {
      "text/plain": [
       "array([4, 2])"
      ]
     },
     "execution_count": 8,
     "metadata": {},
     "output_type": "execute_result"
    }
   ],
   "source": [
    "unseen_attacks"
   ]
  },
  {
   "cell_type": "code",
   "execution_count": 9,
   "metadata": {},
   "outputs": [],
   "source": [
    "X_train_seen = X_train[y_train.isin(seen_attacks)]\n",
    "y_train_seen = y_train[y_train.isin(seen_attacks)]"
   ]
  },
  {
   "cell_type": "code",
   "execution_count": 10,
   "metadata": {},
   "outputs": [],
   "source": [
    "# Further split test set to include unseen attacks\n",
    "X_test_seen = X_test[y_test.isin(seen_attacks)]\n",
    "y_test_seen = y_test[y_test.isin(seen_attacks)]\n",
    "X_test_unseen = X_test[y_test.isin(unseen_attacks)]\n",
    "y_test_unseen = y_test[y_test.isin(unseen_attacks)]"
   ]
  },
  {
   "cell_type": "code",
   "execution_count": 11,
   "metadata": {},
   "outputs": [],
   "source": [
    "# convert to a bianry classification\n",
    "y_train_seen = (y_train_seen != 0).astype(int)\n",
    "y_test_unseen = (y_test_unseen != 0).astype(int)\n",
    "y_test_seen = (y_test_seen != 0).astype(int)\n"
   ]
  },
  {
   "cell_type": "code",
   "execution_count": 12,
   "metadata": {},
   "outputs": [
    {
     "data": {
      "text/plain": [
       "label\n",
       "0    364830\n",
       "1    191293\n",
       "Name: count, dtype: int64"
      ]
     },
     "execution_count": 12,
     "metadata": {},
     "output_type": "execute_result"
    }
   ],
   "source": [
    "y_train_seen.value_counts()\n"
   ]
  },
  {
   "cell_type": "code",
   "execution_count": 13,
   "metadata": {},
   "outputs": [
    {
     "data": {
      "text/plain": [
       "label\n",
       "1    6602\n",
       "Name: count, dtype: int64"
      ]
     },
     "execution_count": 13,
     "metadata": {},
     "output_type": "execute_result"
    }
   ],
   "source": [
    "y_test_unseen.value_counts()\n"
   ]
  },
  {
   "cell_type": "code",
   "execution_count": 14,
   "metadata": {},
   "outputs": [
    {
     "data": {
      "text/plain": [
       "label\n",
       "0    365427\n",
       "1    190771\n",
       "Name: count, dtype: int64"
      ]
     },
     "execution_count": 14,
     "metadata": {},
     "output_type": "execute_result"
    }
   ],
   "source": [
    "y_test_seen.value_counts()"
   ]
  },
  {
   "cell_type": "code",
   "execution_count": 15,
   "metadata": {},
   "outputs": [],
   "source": [
    "# Filter training data for seen attacks\n",
    "# train_indices = y_train.isin(seen_attacks)\n",
    "# X_train_seen = X_train[train_indices]\n",
    "# y_train_seen = y_train[train_indices]"
   ]
  },
  {
   "cell_type": "code",
   "execution_count": 16,
   "metadata": {},
   "outputs": [],
   "source": [
    "rus = RandomUnderSampler(random_state=42, sampling_strategy='auto')\n",
    "X_train_seen, y_train_seen = rus.fit_resample(X_train_seen, y_train_seen)"
   ]
  },
  {
   "cell_type": "code",
   "execution_count": 17,
   "metadata": {},
   "outputs": [
    {
     "data": {
      "text/plain": [
       "label\n",
       "0    191293\n",
       "1    191293\n",
       "Name: count, dtype: int64"
      ]
     },
     "execution_count": 17,
     "metadata": {},
     "output_type": "execute_result"
    }
   ],
   "source": [
    "y_train_seen.value_counts()"
   ]
  },
  {
   "cell_type": "code",
   "execution_count": 18,
   "metadata": {},
   "outputs": [],
   "source": [
    "# from gensim.models import KeyedVectors\n",
    "# # Load GloVe (or use FastText)\n",
    "# # You can download GloVe here: https://nlp.stanford.edu/projects/glove/\n",
    "# glove_path = \"/Users/alberto.llamas/Downloads/GloVeWord_Vectors/glove.6B.100d.txt\"\n",
    "# glove = KeyedVectors.load_word2vec_format(glove_path, binary=False, no_header=True)\n",
    "\n",
    "# # Get attack class names\n",
    "# attack_classes = [\"Benign\", \"DoS_Hulk\", \"DDoS_LOIT\", \"DoS_GoldenEye\", \"DoS_Slowhttptest\", \"DoS_Slowloris\"]\n",
    "\n",
    "# # Map to GloVe vectors\n",
    "# class_embeddings = []\n",
    "# for name in attack_classes:\n",
    "#     vector = glove.get_vector(name.lower()) if name.lower() in glove else np.random.rand(100)\n",
    "#     class_embeddings.append(vector)\n",
    "\n",
    "# class_embeddings = np.stack(class_embeddings).astype(np.float32)\n"
   ]
  },
  {
   "cell_type": "code",
   "execution_count": 19,
   "metadata": {},
   "outputs": [],
   "source": [
    "# #  Define Class Embeddings\n",
    "# # Create one-hot embeddings\n",
    "# num_classes = len(attack_types)\n",
    "# class_embeddings = np.eye(num_classes).astype(np.float32)\n",
    "# class_embeddings\n"
   ]
  },
  {
   "cell_type": "code",
   "execution_count": 20,
   "metadata": {},
   "outputs": [],
   "source": [
    "# from imblearn.over_sampling import SMOTE\n",
    "\n",
    "# smote = SMOTE(sampling_strategy='auto', random_state=42)\n",
    "# X_upsampled, y_upsampled = smote.fit_resample(X_train, y_train)\n",
    "\n",
    "# blnc_data = pd.DataFrame(X_upsampled)\n",
    "# blnc_data['label'] = y_upsampled\n",
    "# blnc_data = blnc_data.sample(frac=1)\n",
    "\n",
    "# blnc_data['label'].value_counts()\n",
    "# # X_train = blnc_data.drop(\"label\", axis=1)\n",
    "# # y_train = blnc_data[\"label\"]"
   ]
  },
  {
   "cell_type": "code",
   "execution_count": 21,
   "metadata": {},
   "outputs": [],
   "source": [
    "# sme = SMOTEENN(random_state=42, sampling_strategy='not minority')\n",
    "# X_train, y_train = sme.fit_resample(X_train, y_train)\n",
    "# X_val, y_val = sme.fit_resample(X_val, y_val)"
   ]
  },
  {
   "cell_type": "code",
   "execution_count": 22,
   "metadata": {},
   "outputs": [],
   "source": [
    "# print('Resampled Train dataset shape %s' % Counter(y_train))\n",
    "# print('Resampled Val dataset shape %s' % Counter(y_val))"
   ]
  },
  {
   "cell_type": "code",
   "execution_count": 23,
   "metadata": {},
   "outputs": [],
   "source": [
    "# rus = RandomUnderSampler(random_state=42, sampling_strategy='auto')\n",
    "# X_train, y_train = rus.fit_resample(X_train, y_train)\n",
    "# # X_val, y_val = rus.fit_resample(X_val, y_val)\n",
    "# X_test, y_test = rus.fit_resample(X_test, y_test)"
   ]
  },
  {
   "cell_type": "code",
   "execution_count": 24,
   "metadata": {},
   "outputs": [
    {
     "data": {
      "text/plain": [
       "(382586, 108)"
      ]
     },
     "execution_count": 24,
     "metadata": {},
     "output_type": "execute_result"
    }
   ],
   "source": [
    "X_train_seen.shape"
   ]
  },
  {
   "cell_type": "code",
   "execution_count": 25,
   "metadata": {},
   "outputs": [
    {
     "data": {
      "text/plain": [
       "(382586,)"
      ]
     },
     "execution_count": 25,
     "metadata": {},
     "output_type": "execute_result"
    }
   ],
   "source": [
    "y_train_seen.shape"
   ]
  },
  {
   "cell_type": "code",
   "execution_count": 26,
   "metadata": {},
   "outputs": [],
   "source": [
    "# from imblearn.under_sampling import AllKNN\n",
    "# allknn = AllKNN()\n",
    "# X_train, y_train = allknn.fit_resample(X_train, y_train)\n",
    "# X_val, y_val = allknn.fit_resample(X_val, y_val)"
   ]
  },
  {
   "cell_type": "code",
   "execution_count": 27,
   "metadata": {},
   "outputs": [],
   "source": [
    "# from imblearn.under_sampling import ClusterCentroids\n",
    "# cc = ClusterCentroids(random_state=42)\n",
    "# X_train, y_train = cc.fit_resample(X_train, y_train)\n",
    "# X_val, y_val = cc.fit_resample(X_val, y_val)"
   ]
  },
  {
   "cell_type": "code",
   "execution_count": 28,
   "metadata": {},
   "outputs": [],
   "source": [
    "\n",
    "# ros = RandomOverSampler(random_state=42, sampling_strategy='auto')\n",
    "# X_train, y_train = ros.fit_resample(X_train, y_train)\n",
    "# X_val, y_val = ros.fit_resample(X_val, y_val)"
   ]
  },
  {
   "cell_type": "code",
   "execution_count": 29,
   "metadata": {},
   "outputs": [],
   "source": [
    "# smt = SMOTETomek(random_state=42, sampling_strategy='auto')\n",
    "# X_train, y_train = smt.fit_resample(X_train, y_train)\n",
    "# X_val, y_val = smt.fit_resample(X_val, y_val)"
   ]
  },
  {
   "cell_type": "code",
   "execution_count": 30,
   "metadata": {},
   "outputs": [],
   "source": [
    "# # Convert data into LSTM-friendly format\n",
    "X_train_seen = X_train_seen.to_numpy().reshape((X_train_seen.shape[0], 1, X_train_seen.shape[1]))\n",
    "# X_val = X_val.to_numpy().reshape((X_val.shape[0], 1, X_val.shape[1]))\n",
    "X_test = X_test.to_numpy().reshape((X_test.shape[0], 1, X_test.shape[1]))\n",
    "X_test_seen = X_test_seen.to_numpy().reshape((X_test_seen.shape[0], 1, X_test_seen.shape[1]))\n",
    "X_test_unseen = X_test_unseen.to_numpy().reshape((X_test_unseen.shape[0], 1, X_test_unseen.shape[1]))\n"
   ]
  },
  {
   "cell_type": "code",
   "execution_count": 31,
   "metadata": {},
   "outputs": [],
   "source": [
    "# # Convert data into LSTM-friendly format\n",
    "# seq_length = 1  # Number of time steps per sequence\n",
    "\n",
    "# # Train\n",
    "# X_lstm, y_lstm = [], []\n",
    "\n",
    "# for i in range(len(X_train) - seq_length):\n",
    "#     X_lstm.append(X_train[i : i + seq_length])\n",
    "#     y_lstm.append(y_train.iloc[i + seq_length])\n",
    "    \n",
    "# X_lstm, y_lstm = np.array(X_lstm), np.array(y_lstm)\n",
    "\n",
    "# X_train = X_lstm\n",
    "# y_train = y_lstm\n",
    "\n",
    "# # Val\n",
    "# X_lstm, y_lstm = [], []\n",
    "\n",
    "# for i in range(len(X_val) - seq_length):\n",
    "#     X_lstm.append(X_val[i : i + seq_length])\n",
    "#     y_lstm.append(y_val.iloc[i + seq_length])\n",
    "    \n",
    "# X_lstm, y_lstm = np.array(X_lstm), np.array(y_lstm)\n",
    "\n",
    "# X_val = X_lstm\n",
    "# y_val = y_lstm\n",
    "\n",
    "# # Test\n",
    "# X_lstm, y_lstm = [], []\n",
    "\n",
    "# for i in range(len(X_test) - seq_length):\n",
    "#     X_lstm.append(X_test[i : i + seq_length])\n",
    "#     y_lstm.append(y_test.iloc[i + seq_length])\n",
    "    \n",
    "# X_lstm, y_lstm = np.array(X_lstm), np.array(y_lstm)\n",
    "\n",
    "# X_test = X_lstm\n",
    "# y_test = y_lstm\n"
   ]
  },
  {
   "cell_type": "code",
   "execution_count": 32,
   "metadata": {},
   "outputs": [
    {
     "name": "stdout",
     "output_type": "stream",
     "text": [
      "X_train seen shape: (382586, 1, 108)\n",
      "X_test unseen shape: (556198, 1, 108)\n"
     ]
    }
   ],
   "source": [
    "# Print the shapes of train and test sets\n",
    "print(f\"X_train seen shape: {X_train_seen.shape}\")\n",
    "print(f\"X_test unseen shape: {X_test_seen.shape}\")\n",
    "# print(f\"X_val shape: {X_val.shape}\")"
   ]
  },
  {
   "cell_type": "code",
   "execution_count": 33,
   "metadata": {},
   "outputs": [
    {
     "name": "stdout",
     "output_type": "stream",
     "text": [
      "X_test unseen shape: (6602, 1, 108)\n"
     ]
    }
   ],
   "source": [
    "print(f\"X_test unseen shape: {X_test_unseen.shape}\")"
   ]
  },
  {
   "cell_type": "code",
   "execution_count": 34,
   "metadata": {},
   "outputs": [
    {
     "name": "stdout",
     "output_type": "stream",
     "text": [
      "y_train seen shape: (382586,)\n",
      "y_test seen shape: (556198,)\n",
      "y_test unseen shape: (6602,)\n"
     ]
    }
   ],
   "source": [
    "print(f\"y_train seen shape: {y_train_seen.shape}\")\n",
    "print(f\"y_test seen shape: {y_test_seen.shape}\")\n",
    "print(f\"y_test unseen shape: {y_test_unseen.shape}\")\n"
   ]
  },
  {
   "cell_type": "code",
   "execution_count": 35,
   "metadata": {},
   "outputs": [
    {
     "name": "stdout",
     "output_type": "stream",
     "text": [
      "Label distribution in y_train seen:\n",
      "label\n",
      "0    191293\n",
      "1    191293\n",
      "Name: count, dtype: int64\n"
     ]
    }
   ],
   "source": [
    "# Print label distribution in y_train and y_test\n",
    "print(\"Label distribution in y_train seen:\")\n",
    "print(pd.Series(y_train_seen).value_counts())\n"
   ]
  },
  {
   "cell_type": "code",
   "execution_count": 36,
   "metadata": {},
   "outputs": [
    {
     "name": "stdout",
     "output_type": "stream",
     "text": [
      "\n",
      "Label distribution in y_test seen :\n",
      "label\n",
      "0    365427\n",
      "1    190771\n",
      "Name: count, dtype: int64\n"
     ]
    }
   ],
   "source": [
    "print(\"\\nLabel distribution in y_test seen :\")\n",
    "print(pd.Series(y_test_seen).value_counts())"
   ]
  },
  {
   "cell_type": "code",
   "execution_count": 37,
   "metadata": {},
   "outputs": [
    {
     "name": "stdout",
     "output_type": "stream",
     "text": [
      "\n",
      "Label distribution in y_test unseen :\n",
      "label\n",
      "1    6602\n",
      "Name: count, dtype: int64\n"
     ]
    }
   ],
   "source": [
    "print(\"\\nLabel distribution in y_test unseen :\")\n",
    "print(pd.Series(y_test_unseen).value_counts())"
   ]
  },
  {
   "cell_type": "code",
   "execution_count": 38,
   "metadata": {},
   "outputs": [],
   "source": [
    "# print(\"\\nLabel distribution in y_val:\")\n",
    "# print(pd.Series(y_val).value_counts())"
   ]
  },
  {
   "cell_type": "code",
   "execution_count": 39,
   "metadata": {},
   "outputs": [],
   "source": [
    "# # Convert y_train, y_test and y_val to MultiLabel binaries\n",
    "# mlb = MultiLabelBinarizer(classes=range(6))  # Specify the classes if needed (in this case, 6 labels)\n",
    "# y_train_binary = mlb.fit_transform(y_train.reshape(-1, 1))\n",
    "# y_test_binary = mlb.fit_transform(y_test.reshape(-1, 1))\n",
    "# y_val_binary = mlb.fit_transform(y_val.reshape(-1, 1))"
   ]
  },
  {
   "cell_type": "code",
   "execution_count": 40,
   "metadata": {},
   "outputs": [],
   "source": [
    "mlb = MultiLabelBinarizer(classes=range(6))  # Specify the classes if needed (in this case, 6 labels)\n",
    "\n",
    "y_train_seen_binary = mlb.fit_transform(y_train_seen.to_numpy().reshape(-1, 1))\n",
    "y_test_binary = mlb.fit_transform(y_test.to_numpy().reshape(-1, 1))\n",
    "y_test_seen_binary = mlb.fit_transform(y_test_seen.to_numpy().reshape(-1, 1))\n",
    "y_test_unseen_binary = mlb.fit_transform(y_test_unseen.to_numpy().reshape(-1, 1))\n",
    "# y_val_binary = mlb.fit_transform(y_val.to_numpy().reshape(-1, 1))"
   ]
  },
  {
   "cell_type": "code",
   "execution_count": 41,
   "metadata": {},
   "outputs": [],
   "source": [
    "# # Cosine similarity function\n",
    "# def cosine_similarity(x):\n",
    "#     x_norm = tf.nn.l2_normalize(x, axis=-1)\n",
    "#     y_norm = tf.nn.l2_normalize(class_embeddings, axis=-1)\n",
    "\n",
    "#     return tf.matmul(x_norm, y_norm, transpose_b=True)  # [batch_size, num_classes]"
   ]
  },
  {
   "cell_type": "code",
   "execution_count": 42,
   "metadata": {},
   "outputs": [],
   "source": [
    "# embedding_dim = class_embeddings.shape[1]\n",
    "# embedding_dim"
   ]
  },
  {
   "cell_type": "code",
   "execution_count": 43,
   "metadata": {},
   "outputs": [],
   "source": [
    "\n",
    "# model = Sequential([\n",
    "# Input(shape=(1, 108)),  # Now (timesteps=1, features)\n",
    "# GRU(256, return_sequences=True),\n",
    "# Dropout(0.2),\n",
    "# GRU(128, return_sequences=True),\n",
    "# Dropout(0.2),\n",
    "# GRU(64, return_sequences=False),  # No return_sequences in last GRU\n",
    "# Dropout(0.2),\n",
    "# Dense(32, activation=\"relu\"),\n",
    "# Dropout(0.2),\n",
    "# Dense(6, activation=\"softmax\")\n",
    "# ])\n",
    "\n",
    "model = Sequential([\n",
    "Input(shape=(1, 108)),  # Now (timesteps=1, features)\n",
    "Flatten(),\n",
    "Dense(140, activation=\"relu\", kernel_initializer='lecun_uniform'),\n",
    "Dense(120, activation=\"relu\", kernel_initializer='lecun_uniform'),\n",
    "Dense(100, activation=\"relu\", kernel_initializer='lecun_uniform'),\n",
    "Dense(80, activation=\"relu\", kernel_initializer='lecun_uniform'),\n",
    "Dense(60, activation=\"relu\", kernel_initializer='lecun_uniform'),\n",
    "Dense(40, activation=\"relu\", kernel_initializer='lecun_uniform'),\n",
    "Dense(20, activation=\"relu\", kernel_initializer='lecun_uniform'),\n",
    "Dense(120, activation=\"relu\", kernel_initializer='lecun_uniform'),\n",
    "Dense(6, activation=\"softmax\", kernel_initializer='glorot_uniform')\n",
    "])\n"
   ]
  },
  {
   "cell_type": "code",
   "execution_count": 44,
   "metadata": {},
   "outputs": [
    {
     "data": {
      "text/html": [
       "<pre style=\"white-space:pre;overflow-x:auto;line-height:normal;font-family:Menlo,'DejaVu Sans Mono',consolas,'Courier New',monospace\"><span style=\"font-weight: bold\">Model: \"sequential\"</span>\n",
       "</pre>\n"
      ],
      "text/plain": [
       "\u001b[1mModel: \"sequential\"\u001b[0m\n"
      ]
     },
     "metadata": {},
     "output_type": "display_data"
    },
    {
     "data": {
      "text/html": [
       "<pre style=\"white-space:pre;overflow-x:auto;line-height:normal;font-family:Menlo,'DejaVu Sans Mono',consolas,'Courier New',monospace\">┏━━━━━━━━━━━━━━━━━━━━━━━━━━━━━━━━━┳━━━━━━━━━━━━━━━━━━━━━━━━┳━━━━━━━━━━━━━━━┓\n",
       "┃<span style=\"font-weight: bold\"> Layer (type)                    </span>┃<span style=\"font-weight: bold\"> Output Shape           </span>┃<span style=\"font-weight: bold\">       Param # </span>┃\n",
       "┡━━━━━━━━━━━━━━━━━━━━━━━━━━━━━━━━━╇━━━━━━━━━━━━━━━━━━━━━━━━╇━━━━━━━━━━━━━━━┩\n",
       "│ flatten (<span style=\"color: #0087ff; text-decoration-color: #0087ff\">Flatten</span>)               │ (<span style=\"color: #00d7ff; text-decoration-color: #00d7ff\">None</span>, <span style=\"color: #00af00; text-decoration-color: #00af00\">108</span>)            │             <span style=\"color: #00af00; text-decoration-color: #00af00\">0</span> │\n",
       "├─────────────────────────────────┼────────────────────────┼───────────────┤\n",
       "│ dense (<span style=\"color: #0087ff; text-decoration-color: #0087ff\">Dense</span>)                   │ (<span style=\"color: #00d7ff; text-decoration-color: #00d7ff\">None</span>, <span style=\"color: #00af00; text-decoration-color: #00af00\">140</span>)            │        <span style=\"color: #00af00; text-decoration-color: #00af00\">15,260</span> │\n",
       "├─────────────────────────────────┼────────────────────────┼───────────────┤\n",
       "│ dense_1 (<span style=\"color: #0087ff; text-decoration-color: #0087ff\">Dense</span>)                 │ (<span style=\"color: #00d7ff; text-decoration-color: #00d7ff\">None</span>, <span style=\"color: #00af00; text-decoration-color: #00af00\">120</span>)            │        <span style=\"color: #00af00; text-decoration-color: #00af00\">16,920</span> │\n",
       "├─────────────────────────────────┼────────────────────────┼───────────────┤\n",
       "│ dense_2 (<span style=\"color: #0087ff; text-decoration-color: #0087ff\">Dense</span>)                 │ (<span style=\"color: #00d7ff; text-decoration-color: #00d7ff\">None</span>, <span style=\"color: #00af00; text-decoration-color: #00af00\">100</span>)            │        <span style=\"color: #00af00; text-decoration-color: #00af00\">12,100</span> │\n",
       "├─────────────────────────────────┼────────────────────────┼───────────────┤\n",
       "│ dense_3 (<span style=\"color: #0087ff; text-decoration-color: #0087ff\">Dense</span>)                 │ (<span style=\"color: #00d7ff; text-decoration-color: #00d7ff\">None</span>, <span style=\"color: #00af00; text-decoration-color: #00af00\">80</span>)             │         <span style=\"color: #00af00; text-decoration-color: #00af00\">8,080</span> │\n",
       "├─────────────────────────────────┼────────────────────────┼───────────────┤\n",
       "│ dense_4 (<span style=\"color: #0087ff; text-decoration-color: #0087ff\">Dense</span>)                 │ (<span style=\"color: #00d7ff; text-decoration-color: #00d7ff\">None</span>, <span style=\"color: #00af00; text-decoration-color: #00af00\">60</span>)             │         <span style=\"color: #00af00; text-decoration-color: #00af00\">4,860</span> │\n",
       "├─────────────────────────────────┼────────────────────────┼───────────────┤\n",
       "│ dense_5 (<span style=\"color: #0087ff; text-decoration-color: #0087ff\">Dense</span>)                 │ (<span style=\"color: #00d7ff; text-decoration-color: #00d7ff\">None</span>, <span style=\"color: #00af00; text-decoration-color: #00af00\">40</span>)             │         <span style=\"color: #00af00; text-decoration-color: #00af00\">2,440</span> │\n",
       "├─────────────────────────────────┼────────────────────────┼───────────────┤\n",
       "│ dense_6 (<span style=\"color: #0087ff; text-decoration-color: #0087ff\">Dense</span>)                 │ (<span style=\"color: #00d7ff; text-decoration-color: #00d7ff\">None</span>, <span style=\"color: #00af00; text-decoration-color: #00af00\">20</span>)             │           <span style=\"color: #00af00; text-decoration-color: #00af00\">820</span> │\n",
       "├─────────────────────────────────┼────────────────────────┼───────────────┤\n",
       "│ dense_7 (<span style=\"color: #0087ff; text-decoration-color: #0087ff\">Dense</span>)                 │ (<span style=\"color: #00d7ff; text-decoration-color: #00d7ff\">None</span>, <span style=\"color: #00af00; text-decoration-color: #00af00\">120</span>)            │         <span style=\"color: #00af00; text-decoration-color: #00af00\">2,520</span> │\n",
       "├─────────────────────────────────┼────────────────────────┼───────────────┤\n",
       "│ dense_8 (<span style=\"color: #0087ff; text-decoration-color: #0087ff\">Dense</span>)                 │ (<span style=\"color: #00d7ff; text-decoration-color: #00d7ff\">None</span>, <span style=\"color: #00af00; text-decoration-color: #00af00\">6</span>)              │           <span style=\"color: #00af00; text-decoration-color: #00af00\">726</span> │\n",
       "└─────────────────────────────────┴────────────────────────┴───────────────┘\n",
       "</pre>\n"
      ],
      "text/plain": [
       "┏━━━━━━━━━━━━━━━━━━━━━━━━━━━━━━━━━┳━━━━━━━━━━━━━━━━━━━━━━━━┳━━━━━━━━━━━━━━━┓\n",
       "┃\u001b[1m \u001b[0m\u001b[1mLayer (type)                   \u001b[0m\u001b[1m \u001b[0m┃\u001b[1m \u001b[0m\u001b[1mOutput Shape          \u001b[0m\u001b[1m \u001b[0m┃\u001b[1m \u001b[0m\u001b[1m      Param #\u001b[0m\u001b[1m \u001b[0m┃\n",
       "┡━━━━━━━━━━━━━━━━━━━━━━━━━━━━━━━━━╇━━━━━━━━━━━━━━━━━━━━━━━━╇━━━━━━━━━━━━━━━┩\n",
       "│ flatten (\u001b[38;5;33mFlatten\u001b[0m)               │ (\u001b[38;5;45mNone\u001b[0m, \u001b[38;5;34m108\u001b[0m)            │             \u001b[38;5;34m0\u001b[0m │\n",
       "├─────────────────────────────────┼────────────────────────┼───────────────┤\n",
       "│ dense (\u001b[38;5;33mDense\u001b[0m)                   │ (\u001b[38;5;45mNone\u001b[0m, \u001b[38;5;34m140\u001b[0m)            │        \u001b[38;5;34m15,260\u001b[0m │\n",
       "├─────────────────────────────────┼────────────────────────┼───────────────┤\n",
       "│ dense_1 (\u001b[38;5;33mDense\u001b[0m)                 │ (\u001b[38;5;45mNone\u001b[0m, \u001b[38;5;34m120\u001b[0m)            │        \u001b[38;5;34m16,920\u001b[0m │\n",
       "├─────────────────────────────────┼────────────────────────┼───────────────┤\n",
       "│ dense_2 (\u001b[38;5;33mDense\u001b[0m)                 │ (\u001b[38;5;45mNone\u001b[0m, \u001b[38;5;34m100\u001b[0m)            │        \u001b[38;5;34m12,100\u001b[0m │\n",
       "├─────────────────────────────────┼────────────────────────┼───────────────┤\n",
       "│ dense_3 (\u001b[38;5;33mDense\u001b[0m)                 │ (\u001b[38;5;45mNone\u001b[0m, \u001b[38;5;34m80\u001b[0m)             │         \u001b[38;5;34m8,080\u001b[0m │\n",
       "├─────────────────────────────────┼────────────────────────┼───────────────┤\n",
       "│ dense_4 (\u001b[38;5;33mDense\u001b[0m)                 │ (\u001b[38;5;45mNone\u001b[0m, \u001b[38;5;34m60\u001b[0m)             │         \u001b[38;5;34m4,860\u001b[0m │\n",
       "├─────────────────────────────────┼────────────────────────┼───────────────┤\n",
       "│ dense_5 (\u001b[38;5;33mDense\u001b[0m)                 │ (\u001b[38;5;45mNone\u001b[0m, \u001b[38;5;34m40\u001b[0m)             │         \u001b[38;5;34m2,440\u001b[0m │\n",
       "├─────────────────────────────────┼────────────────────────┼───────────────┤\n",
       "│ dense_6 (\u001b[38;5;33mDense\u001b[0m)                 │ (\u001b[38;5;45mNone\u001b[0m, \u001b[38;5;34m20\u001b[0m)             │           \u001b[38;5;34m820\u001b[0m │\n",
       "├─────────────────────────────────┼────────────────────────┼───────────────┤\n",
       "│ dense_7 (\u001b[38;5;33mDense\u001b[0m)                 │ (\u001b[38;5;45mNone\u001b[0m, \u001b[38;5;34m120\u001b[0m)            │         \u001b[38;5;34m2,520\u001b[0m │\n",
       "├─────────────────────────────────┼────────────────────────┼───────────────┤\n",
       "│ dense_8 (\u001b[38;5;33mDense\u001b[0m)                 │ (\u001b[38;5;45mNone\u001b[0m, \u001b[38;5;34m6\u001b[0m)              │           \u001b[38;5;34m726\u001b[0m │\n",
       "└─────────────────────────────────┴────────────────────────┴───────────────┘\n"
      ]
     },
     "metadata": {},
     "output_type": "display_data"
    },
    {
     "data": {
      "text/html": [
       "<pre style=\"white-space:pre;overflow-x:auto;line-height:normal;font-family:Menlo,'DejaVu Sans Mono',consolas,'Courier New',monospace\"><span style=\"font-weight: bold\"> Total params: </span><span style=\"color: #00af00; text-decoration-color: #00af00\">63,726</span> (248.93 KB)\n",
       "</pre>\n"
      ],
      "text/plain": [
       "\u001b[1m Total params: \u001b[0m\u001b[38;5;34m63,726\u001b[0m (248.93 KB)\n"
      ]
     },
     "metadata": {},
     "output_type": "display_data"
    },
    {
     "data": {
      "text/html": [
       "<pre style=\"white-space:pre;overflow-x:auto;line-height:normal;font-family:Menlo,'DejaVu Sans Mono',consolas,'Courier New',monospace\"><span style=\"font-weight: bold\"> Trainable params: </span><span style=\"color: #00af00; text-decoration-color: #00af00\">63,726</span> (248.93 KB)\n",
       "</pre>\n"
      ],
      "text/plain": [
       "\u001b[1m Trainable params: \u001b[0m\u001b[38;5;34m63,726\u001b[0m (248.93 KB)\n"
      ]
     },
     "metadata": {},
     "output_type": "display_data"
    },
    {
     "data": {
      "text/html": [
       "<pre style=\"white-space:pre;overflow-x:auto;line-height:normal;font-family:Menlo,'DejaVu Sans Mono',consolas,'Courier New',monospace\"><span style=\"font-weight: bold\"> Non-trainable params: </span><span style=\"color: #00af00; text-decoration-color: #00af00\">0</span> (0.00 B)\n",
       "</pre>\n"
      ],
      "text/plain": [
       "\u001b[1m Non-trainable params: \u001b[0m\u001b[38;5;34m0\u001b[0m (0.00 B)\n"
      ]
     },
     "metadata": {},
     "output_type": "display_data"
    },
    {
     "name": "stdout",
     "output_type": "stream",
     "text": [
      "None\n"
     ]
    }
   ],
   "source": [
    "print(model.summary())"
   ]
  },
  {
   "cell_type": "code",
   "execution_count": 45,
   "metadata": {},
   "outputs": [],
   "source": [
    "# Compile Model\n",
    "optimizer = Adam(learning_rate=0.001)\n",
    "model.compile(optimizer=\"adam\", loss=\"categorical_crossentropy\", metrics=['accuracy'])\n"
   ]
  },
  {
   "cell_type": "code",
   "execution_count": 46,
   "metadata": {},
   "outputs": [
    {
     "data": {
      "text/plain": [
       "(382586, 1, 108)"
      ]
     },
     "execution_count": 46,
     "metadata": {},
     "output_type": "execute_result"
    }
   ],
   "source": [
    "X_train_seen.shape"
   ]
  },
  {
   "cell_type": "code",
   "execution_count": 47,
   "metadata": {},
   "outputs": [],
   "source": [
    "# Fix shape before training\n",
    "# X_train_seen = X_train_seen.to_numpy().reshape((X_train_seen.shape[0], 1, X_train_seen.shape[1]))\n",
    "# X_train_seen.shape\n",
    "# y_train_seen_binary = X_test.reshape((X_test.shape[0], 1, X_test.shape[1]))"
   ]
  },
  {
   "cell_type": "code",
   "execution_count": 48,
   "metadata": {},
   "outputs": [
    {
     "data": {
      "text/plain": [
       "(382586, 1, 108)"
      ]
     },
     "execution_count": 48,
     "metadata": {},
     "output_type": "execute_result"
    }
   ],
   "source": [
    "X_train_seen.shape"
   ]
  },
  {
   "cell_type": "code",
   "execution_count": 49,
   "metadata": {},
   "outputs": [
    {
     "name": "stdout",
     "output_type": "stream",
     "text": [
      "y_train shape: (382586,)\n",
      "First label sample: [1 0 0 0 0 0]\n"
     ]
    }
   ],
   "source": [
    "print(\"y_train shape:\", y_train_seen.shape)\n",
    "print(\"First label sample:\", y_train_seen_binary[0])\n"
   ]
  },
  {
   "cell_type": "code",
   "execution_count": 50,
   "metadata": {},
   "outputs": [
    {
     "name": "stdout",
     "output_type": "stream",
     "text": [
      "Epoch 1/10\n",
      "\u001b[1m11956/11956\u001b[0m \u001b[32m━━━━━━━━━━━━━━━━━━━━\u001b[0m\u001b[37m\u001b[0m \u001b[1m9s\u001b[0m 685us/step - accuracy: 0.9183 - loss: 0.1811\n",
      "Epoch 2/10\n",
      "\u001b[1m11956/11956\u001b[0m \u001b[32m━━━━━━━━━━━━━━━━━━━━\u001b[0m\u001b[37m\u001b[0m \u001b[1m8s\u001b[0m 673us/step - accuracy: 0.9317 - loss: 0.1453\n",
      "Epoch 3/10\n",
      "\u001b[1m11956/11956\u001b[0m \u001b[32m━━━━━━━━━━━━━━━━━━━━\u001b[0m\u001b[37m\u001b[0m \u001b[1m9s\u001b[0m 740us/step - accuracy: 0.9332 - loss: 0.1418\n",
      "Epoch 4/10\n",
      "\u001b[1m11956/11956\u001b[0m \u001b[32m━━━━━━━━━━━━━━━━━━━━\u001b[0m\u001b[37m\u001b[0m \u001b[1m9s\u001b[0m 770us/step - accuracy: 0.9317 - loss: 0.1424\n",
      "Epoch 5/10\n",
      "\u001b[1m11956/11956\u001b[0m \u001b[32m━━━━━━━━━━━━━━━━━━━━\u001b[0m\u001b[37m\u001b[0m \u001b[1m8s\u001b[0m 692us/step - accuracy: 0.9333 - loss: 0.1410\n",
      "Epoch 6/10\n",
      "\u001b[1m11956/11956\u001b[0m \u001b[32m━━━━━━━━━━━━━━━━━━━━\u001b[0m\u001b[37m\u001b[0m \u001b[1m8s\u001b[0m 686us/step - accuracy: 0.9328 - loss: 0.1413\n",
      "Epoch 7/10\n",
      "\u001b[1m11956/11956\u001b[0m \u001b[32m━━━━━━━━━━━━━━━━━━━━\u001b[0m\u001b[37m\u001b[0m \u001b[1m8s\u001b[0m 678us/step - accuracy: 0.9332 - loss: 0.1408\n",
      "Epoch 8/10\n",
      "\u001b[1m11956/11956\u001b[0m \u001b[32m━━━━━━━━━━━━━━━━━━━━\u001b[0m\u001b[37m\u001b[0m \u001b[1m8s\u001b[0m 688us/step - accuracy: 0.9324 - loss: 0.1414\n",
      "Epoch 9/10\n",
      "\u001b[1m11956/11956\u001b[0m \u001b[32m━━━━━━━━━━━━━━━━━━━━\u001b[0m\u001b[37m\u001b[0m \u001b[1m8s\u001b[0m 687us/step - accuracy: 0.9325 - loss: 0.1415\n",
      "Epoch 10/10\n",
      "\u001b[1m11956/11956\u001b[0m \u001b[32m━━━━━━━━━━━━━━━━━━━━\u001b[0m\u001b[37m\u001b[0m \u001b[1m8s\u001b[0m 679us/step - accuracy: 0.9323 - loss: 0.1412\n"
     ]
    }
   ],
   "source": [
    "# history = model.fit(X_train_seen, y_train_seen_binary, epochs=2, batch_size=32)\n",
    "# history = model.fit(X_train_seen, y_train_seen_binary, epochs=10, batch_size=32)\n",
    "history = model.fit(X_train_seen, y_train_seen_binary, epochs=10, batch_size=32)"
   ]
  },
  {
   "cell_type": "code",
   "execution_count": 51,
   "metadata": {},
   "outputs": [
    {
     "name": "stdout",
     "output_type": "stream",
     "text": [
      "\u001b[1m17382/17382\u001b[0m \u001b[32m━━━━━━━━━━━━━━━━━━━━\u001b[0m\u001b[37m\u001b[0m \u001b[1m6s\u001b[0m 351us/step - accuracy: 0.9127 - loss: 0.1503\n",
      "Seen Attacks - Loss: 0.15035022795200348, Accuracy: 0.9128116369247437\n"
     ]
    }
   ],
   "source": [
    "# Evaluate on seen attacks\n",
    "loss_seen, acc_seen = model.evaluate(X_test_seen, y_test_seen_binary)\n",
    "print(f'Seen Attacks - Loss: {loss_seen}, Accuracy: {acc_seen}')"
   ]
  },
  {
   "cell_type": "code",
   "execution_count": 52,
   "metadata": {},
   "outputs": [
    {
     "name": "stdout",
     "output_type": "stream",
     "text": [
      "\u001b[1m17382/17382\u001b[0m \u001b[32m━━━━━━━━━━━━━━━━━━━━\u001b[0m\u001b[37m\u001b[0m \u001b[1m5s\u001b[0m 266us/step\n"
     ]
    }
   ],
   "source": [
    "y_pred_probs = model.predict(X_test_seen)  # shape: (num_samples, num_classes)\n",
    "y_pred = y_pred_probs.argmax(axis=1)       # get predicted class index\n",
    "y_true = y_test_seen.to_numpy() if hasattr(y_test_seen, 'to_numpy') else y_test_seen\n"
   ]
  },
  {
   "cell_type": "code",
   "execution_count": 53,
   "metadata": {},
   "outputs": [
    {
     "name": "stdout",
     "output_type": "stream",
     "text": [
      "              precision    recall  f1-score   support\n",
      "\n",
      "           0       1.00      0.87      0.93    365427\n",
      "           1       0.80      1.00      0.89    190771\n",
      "\n",
      "    accuracy                           0.91    556198\n",
      "   macro avg       0.90      0.93      0.91    556198\n",
      "weighted avg       0.93      0.91      0.91    556198\n",
      "\n"
     ]
    }
   ],
   "source": [
    "print(classification_report(y_true, y_pred))\n"
   ]
  },
  {
   "cell_type": "code",
   "execution_count": 54,
   "metadata": {},
   "outputs": [
    {
     "name": "stdout",
     "output_type": "stream",
     "text": [
      "\u001b[1m207/207\u001b[0m \u001b[32m━━━━━━━━━━━━━━━━━━━━\u001b[0m\u001b[37m\u001b[0m \u001b[1m0s\u001b[0m 412us/step - accuracy: 0.5376 - loss: 6.4997\n",
      "Unseen Attacks - Loss: 6.485178470611572, Accuracy: 0.5416540503501892\n"
     ]
    }
   ],
   "source": [
    "# Evaluate on unseen attacks\n",
    "loss, acc = model.evaluate(X_test_unseen, y_test_unseen_binary)\n",
    "print(f'Unseen Attacks - Loss: {loss}, Accuracy: {acc}')"
   ]
  },
  {
   "cell_type": "code",
   "execution_count": 55,
   "metadata": {},
   "outputs": [
    {
     "name": "stdout",
     "output_type": "stream",
     "text": [
      "\u001b[1m207/207\u001b[0m \u001b[32m━━━━━━━━━━━━━━━━━━━━\u001b[0m\u001b[37m\u001b[0m \u001b[1m0s\u001b[0m 312us/step\n"
     ]
    }
   ],
   "source": [
    "y_pred_probs = model.predict(X_test_unseen)  # shape: (num_samples, num_classes)\n",
    "y_pred = y_pred_probs.argmax(axis=1)       # get predicted class index\n",
    "y_true = y_test_unseen.to_numpy() if hasattr(y_test_unseen, 'to_numpy') else y_test_unseen"
   ]
  },
  {
   "cell_type": "code",
   "execution_count": 56,
   "metadata": {},
   "outputs": [
    {
     "name": "stdout",
     "output_type": "stream",
     "text": [
      "              precision    recall  f1-score   support\n",
      "\n",
      "           0     0.0000    0.0000    0.0000         0\n",
      "           1     1.0000    0.5417    0.7027      6602\n",
      "\n",
      "    accuracy                         0.5417      6602\n",
      "   macro avg     0.5000    0.2708    0.3513      6602\n",
      "weighted avg     1.0000    0.5417    0.7027      6602\n",
      "\n"
     ]
    }
   ],
   "source": [
    "print(classification_report(y_true, y_pred, zero_division=0, digits=4))"
   ]
  },
  {
   "cell_type": "code",
   "execution_count": 57,
   "metadata": {},
   "outputs": [
    {
     "data": {
      "image/png": "[encoded data removed]",
      "text/plain": [
       "<Figure size 640x480 with 1 Axes>"
      ]
     },
     "metadata": {},
     "output_type": "display_data"
    },
    {
     "data": {
      "image/png": "[encoded data removed]",
      "text/plain": [
       "<Figure size 640x480 with 1 Axes>"
      ]
     },
     "metadata": {},
     "output_type": "display_data"
    }
   ],
   "source": [
    "# Plot loss and accuraccy of training\n",
    "plt.plot(history.history['accuracy'], label='Training Accuracy')\n",
    "# plt.plot(history.history['val_categorical_accuracy'], label='Validation Accuracy')\n",
    "plt.xlabel('Epochs')\n",
    "plt.ylabel('Accuracy')\n",
    "plt.legend()\n",
    "plt.title('Training Accuracy')\n",
    "plt.show()\n",
    "\n",
    "# Plot loss\n",
    "plt.plot(history.history['loss'], label='Training Loss')\n",
    "# plt.plot(history.history['val_loss'], label='Validation Loss')\n",
    "plt.xlabel('Epochs')\n",
    "plt.ylabel('Loss')\n",
    "plt.legend()\n",
    "plt.title('Training Loss')\n",
    "plt.show()"
   ]
  },
  {
   "cell_type": "code",
   "execution_count": 58,
   "metadata": {},
   "outputs": [
    {
     "data": {
      "image/png": "[encoded data removed]",
      "text/plain": [
       "<Figure size 800x600 with 1 Axes>"
      ]
     },
     "metadata": {},
     "output_type": "display_data"
    }
   ],
   "source": [
    "# Compute micro-average ROC curve and AUC\n",
    "fpr, tpr, _ = roc_curve(y_test_unseen_binary.ravel(), y_pred_probs.ravel())\n",
    "roc_auc = auc(fpr, tpr)\n",
    "\n",
    "# Plot the ROC curve\n",
    "plt.figure(figsize=(8, 6))\n",
    "plt.plot(fpr, tpr, label=f'AUC = {roc_auc:.2f}')\n",
    "\n",
    "# Plot random classifier\n",
    "# plt.plot([0, 1], [0, 1], 'k--', label='Random (AUC = 0.50)')\n",
    "\n",
    "# Formatting\n",
    "plt.xlabel('False Positive Rate')\n",
    "plt.ylabel('True Positive Rate')\n",
    "plt.title('MLP Batch learning ROC AUC Score')\n",
    "plt.legend()\n",
    "plt.grid()\n",
    "plt.show()"
   ]
  },
  {
   "cell_type": "code",
   "execution_count": 59,
   "metadata": {},
   "outputs": [
    {
     "name": "stderr",
     "output_type": "stream",
     "text": [
      "/var/folders/qg/czgp8gyn3057jghb1vm_44yr0000gp/T/ipykernel_87232/265180166.py:8: RuntimeWarning: invalid value encountered in divide\n",
      "  cm_percent = cm.astype('float') / cm.sum(axis=1, keepdims=True) * 100\n"
     ]
    },
    {
     "data": {
      "image/png": "[encoded data removed]",
      "text/plain": [
       "<Figure size 600x500 with 2 Axes>"
      ]
     },
     "metadata": {},
     "output_type": "display_data"
    }
   ],
   "source": [
    "# Create annotations combining count and percentage\n",
    "from sklearn.metrics import confusion_matrix, ConfusionMatrixDisplay\n",
    "\n",
    "labels = [0, 1]\n",
    "cm = confusion_matrix(y_true, y_pred, labels=labels)\n",
    "\n",
    "# Calculate percentages\n",
    "cm_percent = cm.astype('float') / cm.sum(axis=1, keepdims=True) * 100\n",
    "cm_percent = np.nan_to_num(cm_percent)  # Handle division by zero if any\n",
    "\n",
    "\n",
    "# Create annotations combining count and percentage\n",
    "annotations = np.empty_like(cm).astype(str)\n",
    "\n",
    "for i in range(cm.shape[0]):\n",
    "    for j in range(cm.shape[1]):\n",
    "        count = cm[i, j]\n",
    "        percent = cm_percent[i, j]\n",
    "        annotations[i, j] = f'{count}\\n({percent:.1f}%)'\n",
    "\n",
    "# Plot heatmap with both count and percentage\n",
    "fig, ax = plt.subplots(figsize=(6, 5))\n",
    "sns.heatmap(cm, annot=annotations, fmt='', cmap='Blues', xticklabels=labels, yticklabels=labels, ax=ax)\n",
    "\n",
    "ax.set_xlabel('Predicted Label')\n",
    "ax.set_ylabel('True Label')\n",
    "ax.set_title('Confusion Matrix with Counts and Percentages')\n",
    "\n",
    "plt.tight_layout()\n",
    "plt.show()\n",
    "\n"
   ]
  }
 ],
 "metadata": {
  "kernelspec": {
   "display_name": "rag11",
   "language": "python",
   "name": "python3"
  },
  "language_info": {
   "codemirror_mode": {
    "name": "ipython",
    "version": 3
   },
   "file_extension": ".py",
   "mimetype": "text/x-python",
   "name": "python",
   "nbconvert_exporter": "python",
   "pygments_lexer": "ipython3",
   "version": "3.12.8"
  }
 },
 "nbformat": 4,
 "nbformat_minor": 2
}
